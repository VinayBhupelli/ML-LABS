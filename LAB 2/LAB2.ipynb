{
 "cells": [
  {
   "metadata": {
    "ExecuteTime": {
     "end_time": "2024-04-22T04:48:31.443568Z",
     "start_time": "2024-04-22T04:48:29.483946Z"
    }
   },
   "cell_type": "code",
   "source": [
    "# Importing necessary libraries\n",
    "from sklearn.datasets import load_iris\n",
    "from sklearn.model_selection import cross_val_score, KFold\n",
    "from sklearn.svm import SVC\n",
    "from sklearn.preprocessing import StandardScaler\n",
    "import pandas as pd\n",
    "# Load the Iris dataset\n",
    "iris = load_iris()\n",
    "X = iris.data\n",
    "y = iris.target\n",
    "iris_df = pd.DataFrame(data=iris.data, columns=iris.feature_names)\n",
    "# Print the first five rows\n",
    "target_df = pd.DataFrame(data=iris.target, columns=['species'])\n",
    "# Concatenate the features DataFrame and the target DataFrame\n",
    "iris_with_target_df = pd.concat([iris_df, target_df], axis=1)\n",
    "# Print the first five rows\n",
    "print(iris_with_target_df.head())\n",
    "# Standardize features (optional but recommended for SVM)\n",
    "scaler = StandardScaler()\n",
    "X_scaled = scaler.fit_transform(X)\n",
    "# Initialize SVM model\n",
    "svm_model = SVC(kernel='linear', C=1)\n",
    "# Initialize k-fold Cross-Validation\n",
    "k_fold = KFold(n_splits=5, shuffle=True, random_state=42)\n",
    "# Perform Cross-Validation\n",
    "cv_scores = cross_val_score(svm_model, X_scaled, y, cv=k_fold,\n",
    "scoring='accuracy')\n",
    "print(\"Cross-validation scores:\", cv_scores)\n",
    "print(\"Mean accuracy:\", cv_scores.mean())"
   ],
   "id": "2b626facd234c6d1",
   "outputs": [
    {
     "name": "stdout",
     "output_type": "stream",
     "text": [
      "   sepal length (cm)  sepal width (cm)  petal length (cm)  petal width (cm)  \\\n",
      "0                5.1               3.5                1.4               0.2   \n",
      "1                4.9               3.0                1.4               0.2   \n",
      "2                4.7               3.2                1.3               0.2   \n",
      "3                4.6               3.1                1.5               0.2   \n",
      "4                5.0               3.6                1.4               0.2   \n",
      "\n",
      "   species  \n",
      "0        0  \n",
      "1        0  \n",
      "2        0  \n",
      "3        0  \n",
      "4        0  \n",
      "Cross-validation scores: [0.96666667 0.96666667 0.96666667 0.96666667 1.        ]\n",
      "Mean accuracy: 0.9733333333333334\n"
     ]
    }
   ],
   "execution_count": 1
  },
  {
   "metadata": {
    "ExecuteTime": {
     "end_time": "2024-04-22T04:48:31.452409Z",
     "start_time": "2024-04-22T04:48:31.447715Z"
    }
   },
   "cell_type": "code",
   "source": "",
   "id": "73920219fcd29a62",
   "outputs": [],
   "execution_count": 1
  }
 ],
 "metadata": {
  "kernelspec": {
   "display_name": "Python 3",
   "language": "python",
   "name": "python3"
  },
  "language_info": {
   "codemirror_mode": {
    "name": "ipython",
    "version": 2
   },
   "file_extension": ".py",
   "mimetype": "text/x-python",
   "name": "python",
   "nbconvert_exporter": "python",
   "pygments_lexer": "ipython2",
   "version": "2.7.6"
  },
  "colab": {
   "provenance": []
  }
 },
 "nbformat": 4,
 "nbformat_minor": 5
}
