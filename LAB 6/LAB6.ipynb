{
 "cells": [
  {
   "cell_type": "code",
   "source": [
    "import numpy as np\n",
    "import pandas as pd\n",
    "from sklearn.ensemble import BaggingRegressor\n",
    "from sklearn.tree import DecisionTreeRegressor\n",
    "from sklearn.model_selection import train_test_split\n",
    "from sklearn.metrics import mean_absolute_error, mean_squared_error\n",
    "from sklearn.preprocessing import StandardScaler, OneHotEncoder\n",
    "from sklearn.compose import ColumnTransformer\n",
    "from sklearn.pipeline import Pipeline\n",
    "from sklearn.ensemble import RandomForestRegressor\n",
    "import warnings\n",
    "warnings.filterwarnings('ignore')\n",
    "\n",
    "data= pd.read_csv('CarPrice_Assignment.csv')\n",
    "X = data.drop(columns=['price'])\n",
    "y = data['price']\n",
    "categorical_features = ['CarName', 'fueltype', 'aspiration', 'doornumber','carbody', 'drivewheel', 'enginelocation', 'enginetype', 'cylindernumber','fuelsystem']\n",
    "numerical_features = X.drop(columns=categorical_features).columns.tolist()\n",
    "numeric_transformer = Pipeline([('scaler', StandardScaler())])\n",
    "categorical_transformer = Pipeline([('onehot', OneHotEncoder(handle_unknown='ignore'))])\n",
    "preprocessor = ColumnTransformer([('num', numeric_transformer, numerical_features),('cat', categorical_transformer, categorical_features)])"
   ],
   "metadata": {
    "id": "bTGnktdag91K",
    "ExecuteTime": {
     "end_time": "2024-04-22T05:15:05.731348Z",
     "start_time": "2024-04-22T05:15:05.720645Z"
    }
   },
   "id": "bTGnktdag91K",
   "outputs": [],
   "execution_count": 9
  },
  {
   "cell_type": "markdown",
   "source": [
    "### Bagging"
   ],
   "metadata": {
    "id": "DeKHeRKtlD2V"
   },
   "id": "DeKHeRKtlD2V"
  },
  {
   "cell_type": "code",
   "source": [
    "base_estimator = DecisionTreeRegressor(random_state=42)\n",
    "bagging_model = BaggingRegressor(\n",
    "base_estimator=base_estimator, n_estimators=10, max_samples=0.8,random_state=42)\n",
    "# Create a pipeline with the preprocessor and the model\n",
    "model_pipeline = Pipeline([('preprocessor', preprocessor),('model', bagging_model)])\n",
    "\n",
    "X_train, X_test, y_train, y_test = train_test_split(X, y, test_size=0.2,random_state=42)\n",
    "model_pipeline.fit(X_train, y_train)\n",
    "y_pred = model_pipeline.predict(X_test)\n",
    "mae = mean_absolute_error(y_test, y_pred)\n",
    "mse = mean_squared_error(y_test, y_pred)\n",
    "rmse = np.sqrt(mse)\n",
    "\n",
    "print(\"Mean Absolute Error (MAE):\", mae)\n",
    "print(\"Mean Squared Error (MSE):\", mse)\n",
    "print(\"Root Mean Squared Error (RMSE):\", rmse)"
   ],
   "metadata": {
    "id": "pc-OYuNGhQUx",
    "ExecuteTime": {
     "end_time": "2024-04-22T05:15:06.240086Z",
     "start_time": "2024-04-22T05:15:06.168801Z"
    }
   },
   "id": "pc-OYuNGhQUx",
   "outputs": [
    {
     "name": "stdout",
     "output_type": "stream",
     "text": [
      "Mean Absolute Error (MAE): 1701.7105609756095\n",
      "Mean Squared Error (MSE): 6114789.889631438\n",
      "Root Mean Squared Error (RMSE): 2472.81012001153\n"
     ]
    }
   ],
   "execution_count": 10
  },
  {
   "cell_type": "markdown",
   "source": [
    "### Random Forest"
   ],
   "metadata": {
    "id": "RjIlfk0PlV2l"
   },
   "id": "RjIlfk0PlV2l"
  },
  {
   "cell_type": "code",
   "source": [
    "random_forest_model = RandomForestRegressor(n_estimators=100, random_state=42)\n",
    "# Create a pipeline with the preprocessor and the model\n",
    "model_pipeline = Pipeline([('preprocessor', preprocessor),('model', random_forest_model)])\n",
    "# Split the data into training and testing sets\n",
    "X_train, X_test, y_train, y_test = train_test_split(X, y, test_size=0.2,random_state=42)\n",
    "model_pipeline.fit(X_train, y_train)\n",
    "y_pred = model_pipeline.predict(X_test)\n",
    "mae = mean_absolute_error(y_test, y_pred)\n",
    "mse = mean_squared_error(y_test, y_pred)\n",
    "rmse = np.sqrt(mse)\n",
    "\n",
    "print(\"Mean Absolute Error (MAE):\", mae)\n",
    "print(\"Mean Squared Error (MSE):\", mse)\n",
    "print(\"Root Mean Squared Error (RMSE):\", rmse)\n"
   ],
   "metadata": {
    "colab": {
     "base_uri": "https://localhost:8080/"
    },
    "id": "enAyKNAMj98C",
    "outputId": "13b15b08-758a-4fe5-98fa-94aba569db1c",
    "ExecuteTime": {
     "end_time": "2024-04-22T05:15:07.179887Z",
     "start_time": "2024-04-22T05:15:06.657638Z"
    }
   },
   "id": "enAyKNAMj98C",
   "outputs": [
    {
     "name": "stdout",
     "output_type": "stream",
     "text": [
      "Mean Absolute Error (MAE): 1376.4869024390243\n",
      "Mean Squared Error (MSE): 3666126.8105526576\n",
      "Root Mean Squared Error (RMSE): 1914.7132449932699\n"
     ]
    }
   ],
   "execution_count": 11
  },
  {
   "metadata": {},
   "cell_type": "code",
   "outputs": [],
   "execution_count": null,
   "source": "",
   "id": "b54412a136519155"
  }
 ],
 "metadata": {
  "kernelspec": {
   "display_name": "Python 3",
   "language": "python",
   "name": "python3"
  },
  "language_info": {
   "codemirror_mode": {
    "name": "ipython",
    "version": 2
   },
   "file_extension": ".py",
   "mimetype": "text/x-python",
   "name": "python",
   "nbconvert_exporter": "python",
   "pygments_lexer": "ipython2",
   "version": "2.7.6"
  },
  "colab": {
   "provenance": []
  }
 },
 "nbformat": 4,
 "nbformat_minor": 5
}
